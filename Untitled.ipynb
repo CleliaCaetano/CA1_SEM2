{
 "cells": [
  {
   "cell_type": "markdown",
   "id": "606cd6d4",
   "metadata": {},
   "source": [
    "### Continuous Assessment 1_Semestre 2\n",
    "### Clelia Caetano 2023060"
   ]
  },
  {
   "cell_type": "markdown",
   "id": "60364e10",
   "metadata": {},
   "source": [
    "### Deep Learning using Big Data\n",
    "#### Objectives:"
   ]
  },
  {
   "cell_type": "code",
   "execution_count": 1,
   "id": "8091e9a5",
   "metadata": {
    "scrolled": true
   },
   "outputs": [
    {
     "data": {
      "text/plain": [
       "'local[*]'"
      ]
     },
     "execution_count": 1,
     "metadata": {},
     "output_type": "execute_result"
    }
   ],
   "source": [
    "# sc master - running locally\n",
    "sc.master"
   ]
  },
  {
   "cell_type": "code",
   "execution_count": 2,
   "id": "d19c6bf8",
   "metadata": {},
   "outputs": [],
   "source": [
    "# !pip install pandas"
   ]
  },
  {
   "cell_type": "code",
   "execution_count": 3,
   "id": "d4dcb760",
   "metadata": {},
   "outputs": [],
   "source": [
    "# !pip install seaborn"
   ]
  },
  {
   "cell_type": "code",
   "execution_count": 4,
   "id": "ef80f4ff",
   "metadata": {},
   "outputs": [],
   "source": [
    "# !pip install matplotlib"
   ]
  },
  {
   "cell_type": "code",
   "execution_count": 5,
   "id": "4b9ca56c",
   "metadata": {},
   "outputs": [],
   "source": [
    "# !pip install plotly"
   ]
  },
  {
   "cell_type": "code",
   "execution_count": 6,
   "id": "012d57b7",
   "metadata": {},
   "outputs": [
    {
     "name": "stderr",
     "output_type": "stream",
     "text": [
      "/usr/lib/python3/dist-packages/scipy/__init__.py:146: UserWarning: A NumPy version >=1.17.3 and <1.25.0 is required for this version of SciPy (detected version 1.26.0\n",
      "  warnings.warn(f\"A NumPy version >={np_minversion} and <{np_maxversion}\"\n"
     ]
    }
   ],
   "source": [
    "# Load the libraries\n",
    "import os\n",
    "import pandas as pd\n",
    "import seaborn as sns\n",
    "import numpy as np\n",
    "import matplotlib.pyplot as plt\n",
    "from pyspark import SparkContext\n",
    "from pyspark.sql import SparkSession\n",
    "from pyspark.sql.functions import col\n",
    "from pyspark.sql.functions import corr\n",
    "from pyspark.sql.functions import count\n",
    "from pyspark.sql.types import *\n",
    "from pyspark.ml import Pipeline\n",
    "from pyspark.sql import functions as f\n",
    "from pyspark.sql.functions import udf, StringType\n",
    "from pyspark.sql import SparkSession, functions as F\n",
    "from pyspark.ml.evaluation import MulticlassClassificationEvaluator\n",
    "from pyspark.ml.classification import MultilayerPerceptronClassifier\n",
    "from pyspark.ml.feature import OneHotEncoder, VectorAssembler, StringIndexer\n",
    "\n",
    "import warnings\n",
    "warnings.filterwarnings(\"ignore\")"
   ]
  },
  {
   "cell_type": "markdown",
   "id": "33c95501",
   "metadata": {},
   "source": [
    "### Initialize Spark Session"
   ]
  },
  {
   "cell_type": "code",
   "execution_count": 7,
   "id": "24fb1c15",
   "metadata": {},
   "outputs": [],
   "source": [
    "spark = SparkSession.builder.appName('movies').getOrCreate()"
   ]
  },
  {
   "cell_type": "markdown",
   "id": "1b5fdefd",
   "metadata": {},
   "source": [
    "### Read the Dataset"
   ]
  },
  {
   "cell_type": "code",
   "execution_count": 8,
   "id": "ab1cc436",
   "metadata": {},
   "outputs": [
    {
     "name": "stderr",
     "output_type": "stream",
     "text": [
      "\r",
      "[Stage 0:===========================================================(1 + 0) / 1]\r",
      "\r",
      "                                                                                \r"
     ]
    }
   ],
   "source": [
    "# Load the data.csv into hadoop in the named folder 'Desktop'\n",
    "data = spark.read.csv(\"file:////home/hduser/Desktop/CA1_SEM2/ml-latest/movies.csv\", header=True, inferSchema=True)"
   ]
  },
  {
   "cell_type": "code",
   "execution_count": 9,
   "id": "89a8bfa9",
   "metadata": {},
   "outputs": [
    {
     "name": "stdout",
     "output_type": "stream",
     "text": [
      "root\n",
      " |-- movieId: integer (nullable = true)\n",
      " |-- title: string (nullable = true)\n",
      " |-- genres: string (nullable = true)\n",
      "\n"
     ]
    }
   ],
   "source": [
    "# Display the structure of schema\n",
    "data.printSchema()"
   ]
  },
  {
   "cell_type": "code",
   "execution_count": 10,
   "id": "70c5f116",
   "metadata": {},
   "outputs": [
    {
     "name": "stdout",
     "output_type": "stream",
     "text": [
      "+-------+--------------------+--------------------+\n",
      "|movieId|               title|              genres|\n",
      "+-------+--------------------+--------------------+\n",
      "|      1|    Toy Story (1995)|Adventure|Animati...|\n",
      "|      2|      Jumanji (1995)|Adventure|Childre...|\n",
      "|      3|Grumpier Old Men ...|      Comedy|Romance|\n",
      "|      4|Waiting to Exhale...|Comedy|Drama|Romance|\n",
      "|      5|Father of the Bri...|              Comedy|\n",
      "|      6|         Heat (1995)|Action|Crime|Thri...|\n",
      "|      7|      Sabrina (1995)|      Comedy|Romance|\n",
      "|      8| Tom and Huck (1995)|  Adventure|Children|\n",
      "|      9| Sudden Death (1995)|              Action|\n",
      "|     10|    GoldenEye (1995)|Action|Adventure|...|\n",
      "|     11|American Presiden...|Comedy|Drama|Romance|\n",
      "|     12|Dracula: Dead and...|       Comedy|Horror|\n",
      "|     13|        Balto (1995)|Adventure|Animati...|\n",
      "|     14|        Nixon (1995)|               Drama|\n",
      "|     15|Cutthroat Island ...|Action|Adventure|...|\n",
      "|     16|       Casino (1995)|         Crime|Drama|\n",
      "|     17|Sense and Sensibi...|       Drama|Romance|\n",
      "|     18|   Four Rooms (1995)|              Comedy|\n",
      "|     19|Ace Ventura: When...|              Comedy|\n",
      "|     20|  Money Train (1995)|Action|Comedy|Cri...|\n",
      "+-------+--------------------+--------------------+\n",
      "only showing top 20 rows\n",
      "\n"
     ]
    }
   ],
   "source": [
    "# Show the data\n",
    "data.show()"
   ]
  },
  {
   "cell_type": "code",
   "execution_count": 11,
   "id": "3e286a38",
   "metadata": {},
   "outputs": [
    {
     "name": "stderr",
     "output_type": "stream",
     "text": [
      "                                                                                \r"
     ]
    }
   ],
   "source": [
    "# Load the data.csv into hadoop in the named folder 'Desktop'\n",
    "data1 = spark.read.csv(\"file:////home/hduser/Desktop/CA1_SEM2/ml-latest/ratings.csv\", header=True, inferSchema=True)"
   ]
  },
  {
   "cell_type": "code",
   "execution_count": 12,
   "id": "6daa037a",
   "metadata": {},
   "outputs": [
    {
     "name": "stdout",
     "output_type": "stream",
     "text": [
      "root\n",
      " |-- userId: integer (nullable = true)\n",
      " |-- movieId: integer (nullable = true)\n",
      " |-- rating: double (nullable = true)\n",
      " |-- timestamp: integer (nullable = true)\n",
      "\n"
     ]
    }
   ],
   "source": [
    "# Display the structure of schema\n",
    "data1.printSchema()"
   ]
  },
  {
   "cell_type": "code",
   "execution_count": 13,
   "id": "6ca4f041",
   "metadata": {},
   "outputs": [
    {
     "name": "stdout",
     "output_type": "stream",
     "text": [
      "+------+-------+------+----------+\n",
      "|userId|movieId|rating| timestamp|\n",
      "+------+-------+------+----------+\n",
      "|     1|      1|   4.0|1225734739|\n",
      "|     1|    110|   4.0|1225865086|\n",
      "|     1|    158|   4.0|1225733503|\n",
      "|     1|    260|   4.5|1225735204|\n",
      "|     1|    356|   5.0|1225735119|\n",
      "|     1|    381|   3.5|1225734105|\n",
      "|     1|    596|   4.0|1225733524|\n",
      "|     1|   1036|   5.0|1225735626|\n",
      "|     1|   1049|   3.0|1225734079|\n",
      "|     1|   1066|   4.0|1225736961|\n",
      "|     1|   1196|   3.5|1225735441|\n",
      "|     1|   1200|   3.5|1225735861|\n",
      "|     1|   1210|   4.5|1225735210|\n",
      "|     1|   1214|   4.0|1225736426|\n",
      "|     1|   1291|   5.0|1225734809|\n",
      "|     1|   1293|   2.0|1225733842|\n",
      "|     1|   1376|   3.0|1225733539|\n",
      "|     1|   1396|   3.0|1225733534|\n",
      "|     1|   1537|   4.0|1225736687|\n",
      "|     1|   1909|   3.0|1225733717|\n",
      "+------+-------+------+----------+\n",
      "only showing top 20 rows\n",
      "\n"
     ]
    }
   ],
   "source": [
    "# Show the data\n",
    "data1.show()"
   ]
  },
  {
   "cell_type": "markdown",
   "id": "3d9d10ab",
   "metadata": {},
   "source": [
    "### Exploratory Data Analysis (EDA)"
   ]
  },
  {
   "cell_type": "code",
   "execution_count": 14,
   "id": "e35e3912",
   "metadata": {},
   "outputs": [
    {
     "data": {
      "text/plain": [
       "Row(movieId=1, title='Toy Story (1995)', genres='Adventure|Animation|Children|Comedy|Fantasy')"
      ]
     },
     "execution_count": 14,
     "metadata": {},
     "output_type": "execute_result"
    }
   ],
   "source": [
    "# Display the row of the dataset.\n",
    "data.head()"
   ]
  },
  {
   "cell_type": "code",
   "execution_count": 15,
   "id": "5d5eaf2f",
   "metadata": {},
   "outputs": [
    {
     "name": "stdout",
     "output_type": "stream",
     "text": [
      "The size of the dataset is: 86537 rows\n"
     ]
    }
   ],
   "source": [
    "# Check the size of the data\n",
    "data_size = data.count()\n",
    "print(f\"The size of the dataset is: {data_size} rows\")"
   ]
  },
  {
   "cell_type": "code",
   "execution_count": 16,
   "id": "8ea4d3b0",
   "metadata": {},
   "outputs": [
    {
     "name": "stdout",
     "output_type": "stream",
     "text": [
      "Column Names: ['movieId', 'title', 'genres']\n"
     ]
    }
   ],
   "source": [
    "column_names = data.columns\n",
    "print(\"Column Names:\", column_names)"
   ]
  },
  {
   "cell_type": "code",
   "execution_count": 17,
   "id": "b8248d4e",
   "metadata": {},
   "outputs": [
    {
     "data": {
      "text/plain": [
       "Row(userId=1, movieId=1, rating=4.0, timestamp=1225734739)"
      ]
     },
     "execution_count": 17,
     "metadata": {},
     "output_type": "execute_result"
    }
   ],
   "source": [
    "# Display the row of the dataset.\n",
    "data1.head()"
   ]
  },
  {
   "cell_type": "code",
   "execution_count": 18,
   "id": "00d76731",
   "metadata": {},
   "outputs": [
    {
     "name": "stderr",
     "output_type": "stream",
     "text": [
      "[Stage 11:=========================================>                (5 + 2) / 7]\r"
     ]
    },
    {
     "name": "stdout",
     "output_type": "stream",
     "text": [
      "The size of the dataset is: 86537 rows\n"
     ]
    },
    {
     "name": "stderr",
     "output_type": "stream",
     "text": [
      "\r",
      "[Stage 11:=================================================>        (6 + 1) / 7]\r",
      "\r",
      "                                                                                \r"
     ]
    }
   ],
   "source": [
    "# Check the size of the data\n",
    "data1_size = data1.count()\n",
    "print(f\"The size of the dataset is: {data_size} rows\")"
   ]
  },
  {
   "cell_type": "code",
   "execution_count": 19,
   "id": "622eda13",
   "metadata": {},
   "outputs": [
    {
     "name": "stdout",
     "output_type": "stream",
     "text": [
      "Column Names: ['userId', 'movieId', 'rating', 'timestamp']\n"
     ]
    }
   ],
   "source": [
    "# Check column names\n",
    "column_names = data1.columns\n",
    "print(\"Column Names:\", column_names)"
   ]
  },
  {
   "cell_type": "markdown",
   "id": "567a965a",
   "metadata": {},
   "source": [
    "### Missing Values"
   ]
  },
  {
   "cell_type": "code",
   "execution_count": 20,
   "id": "4572c796",
   "metadata": {},
   "outputs": [
    {
     "name": "stdout",
     "output_type": "stream",
     "text": [
      "+-------+-----+------+\n",
      "|movieId|title|genres|\n",
      "+-------+-----+------+\n",
      "|  false|false| false|\n",
      "|  false|false| false|\n",
      "|  false|false| false|\n",
      "|  false|false| false|\n",
      "|  false|false| false|\n",
      "|  false|false| false|\n",
      "|  false|false| false|\n",
      "|  false|false| false|\n",
      "|  false|false| false|\n",
      "|  false|false| false|\n",
      "|  false|false| false|\n",
      "|  false|false| false|\n",
      "|  false|false| false|\n",
      "|  false|false| false|\n",
      "|  false|false| false|\n",
      "|  false|false| false|\n",
      "|  false|false| false|\n",
      "|  false|false| false|\n",
      "|  false|false| false|\n",
      "|  false|false| false|\n",
      "+-------+-----+------+\n",
      "only showing top 20 rows\n",
      "\n"
     ]
    }
   ],
   "source": [
    "missing_values = data.select([F.col(c).isNull().alias(c) for c in data.columns])\n",
    "\n",
    "# Show the DataFrame with missing value indicators\n",
    "missing_values.show()"
   ]
  },
  {
   "cell_type": "code",
   "execution_count": 21,
   "id": "089b6491",
   "metadata": {},
   "outputs": [
    {
     "name": "stdout",
     "output_type": "stream",
     "text": [
      "+------+-------+------+---------+\n",
      "|userId|movieId|rating|timestamp|\n",
      "+------+-------+------+---------+\n",
      "| false|  false| false|    false|\n",
      "| false|  false| false|    false|\n",
      "| false|  false| false|    false|\n",
      "| false|  false| false|    false|\n",
      "| false|  false| false|    false|\n",
      "| false|  false| false|    false|\n",
      "| false|  false| false|    false|\n",
      "| false|  false| false|    false|\n",
      "| false|  false| false|    false|\n",
      "| false|  false| false|    false|\n",
      "| false|  false| false|    false|\n",
      "| false|  false| false|    false|\n",
      "| false|  false| false|    false|\n",
      "| false|  false| false|    false|\n",
      "| false|  false| false|    false|\n",
      "| false|  false| false|    false|\n",
      "| false|  false| false|    false|\n",
      "| false|  false| false|    false|\n",
      "| false|  false| false|    false|\n",
      "| false|  false| false|    false|\n",
      "+------+-------+------+---------+\n",
      "only showing top 20 rows\n",
      "\n"
     ]
    }
   ],
   "source": [
    "missing_values = data1.select([F.col(c).isNull().alias(c) for c in data1.columns])\n",
    "\n",
    "# Show the DataFrame with missing value indicators\n",
    "missing_values.show()"
   ]
  },
  {
   "cell_type": "code",
   "execution_count": 22,
   "id": "1d69dc61",
   "metadata": {},
   "outputs": [],
   "source": [
    "# Drop columns that are duplicates and other irrelevant data information.\n",
    "data1 = data1.drop('timestamp')"
   ]
  },
  {
   "cell_type": "code",
   "execution_count": 23,
   "id": "ed6841d9",
   "metadata": {},
   "outputs": [
    {
     "name": "stdout",
     "output_type": "stream",
     "text": [
      "+-------+--------------------+--------------------+-------+-------+\n",
      "|movieId|               title|              genres|userId1|rating1|\n",
      "+-------+--------------------+--------------------+-------+-------+\n",
      "|      1|    Toy Story (1995)|Adventure|Animati...|      1|    4.0|\n",
      "|    110|   Braveheart (1995)|    Action|Drama|War|      1|    4.0|\n",
      "|    158|       Casper (1995)|  Adventure|Children|      1|    4.0|\n",
      "|    260|Star Wars: Episod...|Action|Adventure|...|      1|    4.5|\n",
      "|    356| Forrest Gump (1994)|Comedy|Drama|Roma...|      1|    5.0|\n",
      "|    381|When a Man Loves ...|       Drama|Romance|      1|    3.5|\n",
      "|    596|    Pinocchio (1940)|Animation|Childre...|      1|    4.0|\n",
      "|   1036|     Die Hard (1988)|Action|Crime|Thri...|      1|    5.0|\n",
      "|   1049|Ghost and the Dar...|    Action|Adventure|      1|    3.0|\n",
      "|   1066|Shall We Dance (1...|Comedy|Musical|Ro...|      1|    4.0|\n",
      "|   1196|Star Wars: Episod...|Action|Adventure|...|      1|    3.5|\n",
      "|   1200|       Aliens (1986)|Action|Adventure|...|      1|    3.5|\n",
      "|   1210|Star Wars: Episod...|Action|Adventure|...|      1|    4.5|\n",
      "|   1214|        Alien (1979)|       Horror|Sci-Fi|      1|    4.0|\n",
      "|   1291|Indiana Jones and...|    Action|Adventure|      1|    5.0|\n",
      "|   1293|       Gandhi (1982)|               Drama|      1|    2.0|\n",
      "|   1376|Star Trek IV: The...|Adventure|Comedy|...|      1|    3.0|\n",
      "|   1396|     Sneakers (1992)|Action|Comedy|Cri...|      1|    3.0|\n",
      "|   1537|Shall We Dance? (...|Comedy|Drama|Romance|      1|    4.0|\n",
      "|   1909|X-Files: Fight th...|Action|Crime|Myst...|      1|    3.0|\n",
      "+-------+--------------------+--------------------+-------+-------+\n",
      "only showing top 20 rows\n",
      "\n"
     ]
    }
   ],
   "source": [
    "# Rename the columns in data1 to avoid conflicts when merging\n",
    "data1 = data1.withColumnRenamed('userId', 'userId1').withColumnRenamed('rating', 'rating1')\n",
    "\n",
    "# Merge data1[['movieId', 'userId', 'rating']] into data based on the 'movieId' column\n",
    "df = data.join(data1.select('movieId', 'userId1', 'rating1'), on='movieId', how='inner')\n",
    "\n",
    "# Display the resulting merged DataFrame\n",
    "df.show()"
   ]
  },
  {
   "cell_type": "code",
   "execution_count": 24,
   "id": "6fb754cd",
   "metadata": {},
   "outputs": [
    {
     "name": "stderr",
     "output_type": "stream",
     "text": [
      "                                                                                \r"
     ]
    },
    {
     "data": {
      "text/plain": [
       "33832162"
      ]
     },
     "execution_count": 24,
     "metadata": {},
     "output_type": "execute_result"
    }
   ],
   "source": [
    "# Count the number of records\n",
    "df.count()"
   ]
  },
  {
   "cell_type": "code",
   "execution_count": 25,
   "id": "521c877d",
   "metadata": {},
   "outputs": [
    {
     "data": {
      "text/plain": [
       "5"
      ]
     },
     "execution_count": 25,
     "metadata": {},
     "output_type": "execute_result"
    }
   ],
   "source": [
    "# Number of columns\n",
    "len(df.columns)"
   ]
  },
  {
   "cell_type": "code",
   "execution_count": 26,
   "id": "f117a70a",
   "metadata": {},
   "outputs": [
    {
     "name": "stdout",
     "output_type": "stream",
     "text": [
      "root\n",
      " |-- movieId: integer (nullable = true)\n",
      " |-- title: string (nullable = true)\n",
      " |-- genres: string (nullable = true)\n",
      " |-- userId1: integer (nullable = true)\n",
      " |-- rating1: double (nullable = true)\n",
      "\n",
      "Column Names: ['movieId', 'title', 'genres', 'userId1', 'rating1']\n"
     ]
    }
   ],
   "source": [
    "# Print the schema, which includes column names and data types\n",
    "df.printSchema()\n",
    "\n",
    "# Get the column names as a list\n",
    "column_names = df.columns\n",
    "\n",
    "# Display the column names\n",
    "print(\"Column Names:\", column_names)"
   ]
  },
  {
   "cell_type": "code",
   "execution_count": 27,
   "id": "b0ce3162",
   "metadata": {
    "scrolled": false
   },
   "outputs": [
    {
     "name": "stderr",
     "output_type": "stream",
     "text": [
      "                                                                                \r"
     ]
    },
    {
     "name": "stdout",
     "output_type": "stream",
     "text": [
      "Count of Unique Values in 'movieId': 83239\n"
     ]
    },
    {
     "name": "stderr",
     "output_type": "stream",
     "text": [
      "                                                                                \r"
     ]
    },
    {
     "name": "stdout",
     "output_type": "stream",
     "text": [
      "Count of Unique Values in 'title': 83043\n"
     ]
    },
    {
     "name": "stderr",
     "output_type": "stream",
     "text": [
      "[Stage 37:=================================================>        (6 + 1) / 7]\r"
     ]
    },
    {
     "name": "stdout",
     "output_type": "stream",
     "text": [
      "Count of Unique Values in 'genres': 1780\n"
     ]
    },
    {
     "name": "stderr",
     "output_type": "stream",
     "text": [
      "                                                                                \r"
     ]
    },
    {
     "name": "stdout",
     "output_type": "stream",
     "text": [
      "Count of Unique Values in 'userId1': 330975\n"
     ]
    },
    {
     "name": "stderr",
     "output_type": "stream",
     "text": [
      "[Stage 51:=================================================>        (6 + 1) / 7]\r"
     ]
    },
    {
     "name": "stdout",
     "output_type": "stream",
     "text": [
      "Count of Unique Values in 'rating1': 10\n"
     ]
    },
    {
     "name": "stderr",
     "output_type": "stream",
     "text": [
      "\r",
      "                                                                                \r"
     ]
    }
   ],
   "source": [
    "# Get the list of column names\n",
    "column_names = df.columns\n",
    "\n",
    "# Loop through the columns and check the count of unique values for each\n",
    "for column_name in column_names:\n",
    "    # Check unique values\n",
    "    unique_values = df.select(column_name).distinct()\n",
    "    \n",
    "    # Count the unique values\n",
    "    count_values = unique_values.count()\n",
    "    \n",
    "    # Display the count of unique values for each column\n",
    "    print(f\"Count of Unique Values in '{column_name}': {count_values}\")"
   ]
  },
  {
   "cell_type": "code",
   "execution_count": 28,
   "id": "a9dc9e35",
   "metadata": {
    "scrolled": false
   },
   "outputs": [
    {
     "name": "stderr",
     "output_type": "stream",
     "text": [
      "[Stage 65:=================================================>        (6 + 1) / 7]\r"
     ]
    },
    {
     "name": "stdout",
     "output_type": "stream",
     "text": [
      "Unique values in 'rating1': [3.5, 4.5, 2.5, 1.0, 4.0, 0.5, 3.0, 2.0, 1.5, 5.0]\n"
     ]
    },
    {
     "name": "stderr",
     "output_type": "stream",
     "text": [
      "\r",
      "                                                                                \r"
     ]
    }
   ],
   "source": [
    "# Count the unique values in the 'rating1' column\n",
    "rating1_counts = df.select(\"rating1\").distinct().count()\n",
    "\n",
    "# Collect and print the unique values\n",
    "unique_values = df.select(\"rating1\").distinct().rdd.flatMap(lambda x: x).collect()\n",
    "print(\"Unique values in 'rating1':\", unique_values)"
   ]
  },
  {
   "cell_type": "code",
   "execution_count": 29,
   "id": "a14ba761",
   "metadata": {},
   "outputs": [
    {
     "name": "stderr",
     "output_type": "stream",
     "text": [
      "[Stage 69:=================================================>        (6 + 1) / 7]\r"
     ]
    },
    {
     "name": "stdout",
     "output_type": "stream",
     "text": [
      "+-------+-------+\n",
      "|rating1|  count|\n",
      "+-------+-------+\n",
      "|    3.5|4465001|\n",
      "|    4.5|3123055|\n",
      "|    2.5|1760733|\n",
      "|    1.0|1013645|\n",
      "|    4.0|8835955|\n",
      "|    0.5| 566306|\n",
      "|    3.0|6400664|\n",
      "|    2.0|2146492|\n",
      "|    1.5| 562409|\n",
      "|    5.0|4957902|\n",
      "+-------+-------+\n",
      "\n"
     ]
    },
    {
     "name": "stderr",
     "output_type": "stream",
     "text": [
      "\r",
      "                                                                                \r"
     ]
    }
   ],
   "source": [
    "# Group by 'rating1' and count the occurrences of each rating\n",
    "rating_counts = df.groupBy(\"rating1\").agg(count(\"*\").alias(\"count\"))\n",
    "\n",
    "# Show the result\n",
    "rating_counts.show()"
   ]
  },
  {
   "cell_type": "markdown",
   "id": "e20224d3",
   "metadata": {},
   "source": [
    "### Subset\n",
    "#### Using the sample 10%"
   ]
  },
  {
   "cell_type": "code",
   "execution_count": 30,
   "id": "cf81fac6",
   "metadata": {},
   "outputs": [],
   "source": [
    "# Sample a fraction of the data (10%)\n",
    "sampled_df = df.sample(fraction=0.1, seed=42)"
   ]
  },
  {
   "cell_type": "markdown",
   "id": "f5784d82",
   "metadata": {},
   "source": [
    "### Multivariate analysis (Correlation between Features)"
   ]
  },
  {
   "cell_type": "code",
   "execution_count": 31,
   "id": "a1c00fea",
   "metadata": {},
   "outputs": [
    {
     "name": "stderr",
     "output_type": "stream",
     "text": [
      "[Stage 81:=================================================>        (6 + 1) / 7]\r"
     ]
    },
    {
     "name": "stdout",
     "output_type": "stream",
     "text": [
      "Correlation between movieId and userId1: 0.005329355264123475\n",
      "Correlation between movieId and rating1: -0.014072878353372535\n",
      "Correlation between userId1 and rating1: -0.0005173715535526461\n"
     ]
    },
    {
     "name": "stderr",
     "output_type": "stream",
     "text": [
      "\r",
      "                                                                                \r"
     ]
    }
   ],
   "source": [
    "# Select numeric columns from sampled_df\n",
    "numeric_columns = [col for col, dtype in sampled_df.dtypes if dtype != 'string']\n",
    "\n",
    "# Calculate correlations for each pair of numeric columns\n",
    "correlation_matrix = {}\n",
    "for i in range(len(numeric_columns)):\n",
    "    col1 = numeric_columns[i]\n",
    "    for j in range(i + 1, len(numeric_columns)):\n",
    "        col2 = numeric_columns[j]\n",
    "        corr_value = sampled_df.select(corr(col1, col2)).collect()[0][0]\n",
    "        correlation_matrix[(col1, col2)] = corr_value\n",
    "\n",
    "# Print the correlation matrix\n",
    "for (col1, col2), corr_value in correlation_matrix.items():\n",
    "    print(f\"Correlation between {col1} and {col2}: {corr_value}\")"
   ]
  },
  {
   "cell_type": "code",
   "execution_count": 32,
   "id": "411c1d8f",
   "metadata": {},
   "outputs": [
    {
     "name": "stderr",
     "output_type": "stream",
     "text": [
      "                                                                                \r"
     ]
    },
    {
     "data": {
      "image/png": "[encoded data removed]",
      "text/plain": [
       "<Figure size 720x576 with 2 Axes>"
      ]
     },
     "metadata": {
      "needs_background": "light"
     },
     "output_type": "display_data"
    }
   ],
   "source": [
    "# Calculate the correlation matrix for sampled_df\n",
    "correlation_matrix = sampled_df.select(numeric_columns).toPandas().corr()\n",
    "\n",
    "# Create a heatmap\n",
    "plt.figure(figsize=(10, 8))\n",
    "sns.heatmap(correlation_matrix, annot=True, cmap='coolwarm', linewidths=0.5)\n",
    "plt.title('Correlation Heatmap')\n",
    "plt.show()"
   ]
  },
  {
   "cell_type": "code",
   "execution_count": 33,
   "id": "dad2cc2d",
   "metadata": {},
   "outputs": [
    {
     "name": "stderr",
     "output_type": "stream",
     "text": [
      "                                                                                \r"
     ]
    },
    {
     "data": {
      "image/png": "[encoded data removed]",
      "text/plain": [
       "<Figure size 540x540 with 12 Axes>"
      ]
     },
     "metadata": {
      "needs_background": "light"
     },
     "output_type": "display_data"
    }
   ],
   "source": [
    "# Convert the PySpark DataFrame to a Pandas DataFrame\n",
    "pandas_df = sampled_df.toPandas()\n",
    "\n",
    "# Create a pairplot using Seaborn\n",
    "sns.pairplot(pandas_df, diag_kind=\"kde\")\n",
    "\n",
    "# Display the pairplot\n",
    "plt.show()"
   ]
  },
  {
   "cell_type": "markdown",
   "id": "baea8647",
   "metadata": {},
   "source": [
    "### Outliers"
   ]
  },
  {
   "cell_type": "code",
   "execution_count": 34,
   "id": "e3dc508e",
   "metadata": {},
   "outputs": [
    {
     "name": "stderr",
     "output_type": "stream",
     "text": [
      "                                                                                \r"
     ]
    },
    {
     "data": {
      "image/png": "[encoded data removed]",
      "text/plain": [
       "<Figure size 1296x432 with 3 Axes>"
      ]
     },
     "metadata": {
      "needs_background": "light"
     },
     "output_type": "display_data"
    }
   ],
   "source": [
    "# Create a figure with three subplots\n",
    "fig, axs = plt.subplots(1, 3, figsize=(18, 6))\n",
    "\n",
    "# Extract the columns and convert them to Pandas Series\n",
    "user_ids = sampled_df.select(\"userId1\").toPandas()[\"userId1\"]\n",
    "rating = sampled_df.select(\"rating1\").toPandas()[\"rating1\"]\n",
    "movie_id = sampled_df.select(\"movieId\").toPandas()[\"movieId\"]\n",
    "\n",
    "# Create box plots for 'userId1,' 'rating1,' and 'movieId'\n",
    "axs[0].boxplot(user_ids, vert=False)\n",
    "axs[0].set_title(\"Box Plot for 'userId1'\")\n",
    "axs[0].set_xlabel(\"userId1\")\n",
    "\n",
    "axs[1].boxplot(rating, vert=False)\n",
    "axs[1].set_title(\"Box Plot for 'rating1'\")\n",
    "axs[1].set_xlabel(\"rating1\")\n",
    "\n",
    "axs[2].boxplot(movie_id, vert=False)\n",
    "axs[2].set_title(\"Box Plot for 'movieId'\")\n",
    "axs[2].set_xlabel(\"movieId\")\n",
    "\n",
    "# Adjust spacing\n",
    "plt.tight_layout()\n",
    "\n",
    "# Show the plot\n",
    "plt.show()"
   ]
  },
  {
   "cell_type": "markdown",
   "id": "95857baf",
   "metadata": {},
   "source": [
    "### Note: If apply Winzorization and reduce the impact of extreme outliers will be a Loss of Information"
   ]
  },
  {
   "cell_type": "markdown",
   "id": "66da2568",
   "metadata": {},
   "source": [
    "### Descriptive Statistics"
   ]
  },
  {
   "cell_type": "code",
   "execution_count": 35,
   "id": "ebeec25f",
   "metadata": {},
   "outputs": [
    {
     "name": "stderr",
     "output_type": "stream",
     "text": [
      "[Stage 95:=================================================>        (6 + 1) / 7]\r"
     ]
    },
    {
     "name": "stdout",
     "output_type": "stream",
     "text": [
      "+-------+-----------------+------------------------+------------------+------------------+------------------+\n",
      "|summary|          movieId|                   title|            genres|           userId1|           rating1|\n",
      "+-------+-----------------+------------------------+------------------+------------------+------------------+\n",
      "|  count|          3386776|                 3386776|           3386776|           3386776|           3386776|\n",
      "|   mean|28345.98143898504|                    null|              null|165499.58065192384|3.5423359856099133|\n",
      "| stddev|49955.01975226049|                    null|              null| 95356.64773282275|1.0640804847510374|\n",
      "|    min|                1|                  (2019)|(no genres listed)|                 1|               0.5|\n",
      "|    max|           288959|ユニコ 魔法の島へ (1983)|           Western|            330975|               5.0|\n",
      "+-------+-----------------+------------------------+------------------+------------------+------------------+\n",
      "\n"
     ]
    },
    {
     "name": "stderr",
     "output_type": "stream",
     "text": [
      "\r",
      "                                                                                \r"
     ]
    }
   ],
   "source": [
    "# Compute and interpret the mean, median, quartiles and standard deviation of the dataset\n",
    "sampled_df.describe().show()"
   ]
  },
  {
   "cell_type": "code",
   "execution_count": 36,
   "id": "5c063671",
   "metadata": {},
   "outputs": [
    {
     "data": {
      "text/plain": [
       "Row(movieId=1036, title='Die Hard (1988)', genres='Action|Crime|Thriller', userId1=1, rating1=5.0)"
      ]
     },
     "execution_count": 36,
     "metadata": {},
     "output_type": "execute_result"
    }
   ],
   "source": [
    "# Check the DataFrame from the first 5 rows after merged datasets\n",
    "sampled_df.head()"
   ]
  },
  {
   "cell_type": "code",
   "execution_count": null,
   "id": "d602d1aa",
   "metadata": {},
   "outputs": [
    {
     "name": "stderr",
     "output_type": "stream",
     "text": [
      "[Stage 100:================================================>        (6 + 1) / 7]\r"
     ]
    }
   ],
   "source": [
    "# Create a boxplot using Seaborn\n",
    "sns.boxplot(x='rating1', y='userId1', data=sampled_df.toPandas(), palette='Set1')\n",
    "\n",
    "# Set the figure size\n",
    "plt.figure(figsize=(8, 6))\n",
    "\n",
    "# Set x and y labels and title\n",
    "plt.xlabel('rating1')\n",
    "plt.ylabel('userId1')\n",
    "plt.title('Boxplot of rating1 by userId1')\n",
    "\n",
    "# Rotate the x-axis labels by 75 degrees\n",
    "plt.xticks(rotation=75)\n",
    "\n",
    "# Show the plot\n",
    "plt.show()"
   ]
  },
  {
   "cell_type": "markdown",
   "id": "d198b499",
   "metadata": {},
   "source": [
    "### Visualization"
   ]
  },
  {
   "cell_type": "code",
   "execution_count": null,
   "id": "1e97d7ae",
   "metadata": {},
   "outputs": [],
   "source": [
    "# Check the categorical variable, count the number of columns, numbers of unique values, \n",
    "# the most frequently value & the frequency of the top value.\n",
    "\n",
    "# Convert the sample PySpark DataFrame to a Pandas DataFrame\n",
    "sampled_df_pd = sampled_df.toPandas()\n",
    "\n",
    "# Check the statistics of categorical variables\n",
    "categorical_stats = sampled_df_pd.describe(include='O')\n",
    "\n",
    "# Display the statistics\n",
    "print(categorical_stats)"
   ]
  },
  {
   "cell_type": "code",
   "execution_count": null,
   "id": "cbe5b774",
   "metadata": {
    "scrolled": false
   },
   "outputs": [],
   "source": [
    "import plotly.express as px\n",
    "\n",
    "# Create an interactive histogram to visualize the distribution of movie ratings\n",
    "# Extract the 'rating' column\n",
    "ratings = sampled_df_pd['rating1']  \n",
    "\n",
    "# Define a custom color mapping for each rating value\n",
    "rating_color_mapping = {\n",
    "    0.5: 'yellow',\n",
    "    1.0: 'purple',\n",
    "    1.5: 'magenta',\n",
    "    2.0: 'orange',\n",
    "    2.5: 'green',\n",
    "    3.0: 'red',  \n",
    "    3.5: 'cyan',\n",
    "    4.0: 'dark-green',\n",
    "    4.5: 'pink',\n",
    "    5.0: 'blue'\n",
    "}\n",
    "\n",
    "# Map the colors to the ratings column\n",
    "colors = ratings.map(rating_color_mapping)\n",
    "\n",
    "# Create an interactive histogram with custom colors\n",
    "fig = px.histogram(ratings, x='rating1', title='Distribution of Movie Ratings', color=colors)\n",
    "fig.update_xaxes(title_text='Rating')\n",
    "fig.update_yaxes(title_text='Count')\n",
    "fig.show()"
   ]
  },
  {
   "cell_type": "markdown",
   "id": "87bd7bb5",
   "metadata": {},
   "source": [
    "### Feature Engineering"
   ]
  },
  {
   "cell_type": "code",
   "execution_count": null,
   "id": "2733bba5",
   "metadata": {},
   "outputs": [],
   "source": [
    "# Select 'movieId' column and set it as the index\n",
    "sampled_df_with_index = sampled_df.select('movieId').distinct()\n",
    "\n",
    "# Show the DataFrame with the 'movieId' column as the index\n",
    "sampled_df_with_index.show()"
   ]
  },
  {
   "cell_type": "code",
   "execution_count": null,
   "id": "8c6fe133",
   "metadata": {},
   "outputs": [],
   "source": [
    "# Define the aggregation operations to perform on other columns\n",
    "agg_operations = {\n",
    "    'rating1': 'mean',  # Calculate the mean rating\n",
    "    'movieId': 'first',  # Choose the first value of 'movieId'\n",
    "    'genres': 'first',  # Choose the first value of 'genres'\n",
    "    'userId1': 'first',  # Choose the first value of 'userId1'\n",
    "}\n",
    "\n",
    "# Group data by 'title' and apply the aggregation operations\n",
    "grouped_data = sampled_df.groupby('title').agg(agg_operations)\n",
    "\n",
    "from pyspark.sql.functions import round\n",
    "\n",
    "# Round the 'avg(rating1)' column to the nearest 0.5\n",
    "grouped_data = grouped_data.withColumn('avg(rating1)', round(grouped_data['avg(rating1)'] * 2) / 2)\n",
    "\n",
    "# Display the resulting DataFrame\n",
    "grouped_data.show()"
   ]
  },
  {
   "cell_type": "code",
   "execution_count": null,
   "id": "bdaff860",
   "metadata": {},
   "outputs": [],
   "source": [
    "# Check the number of rows in the DataFrame\n",
    "row_count = grouped_data.count()\n",
    "\n",
    "# Print the number of rows\n",
    "print(\"Number of Rows:\", row_count)"
   ]
  },
  {
   "cell_type": "code",
   "execution_count": null,
   "id": "99712b96",
   "metadata": {},
   "outputs": [],
   "source": [
    "# Define a custom color mapping for each rating value\n",
    "rating_color_mapping = {\n",
    "    0.5: 'yellow',\n",
    "    1.0: 'purple',\n",
    "    1.5: 'magenta',\n",
    "    2.0: 'orange',\n",
    "    2.5: 'green',\n",
    "    3.0: 'red,  \n",
    "    3.5: 'cyan',\n",
    "    4.0: 'dark-green',\n",
    "    4.5: 'pink',\n",
    "    5.0: 'blue\n",
    "}\n",
    "\n",
    "# Count the number of movies for each mean rating\n",
    "rating_counts = grouped_data['avg(rating1)'].value_counts().reset_index()\n",
    "rating_counts.columns = ['mean_rating', 'count']\n",
    "\n",
    "# Sort the rating_counts DataFrame by mean_rating in descending order\n",
    "rating_counts = rating_counts.sort_values(by='mean_rating', ascending=False)\n",
    "\n",
    "# Create a bar plot with custom colors based on mean_rating\n",
    "plt.figure(figsize=(12, 6))\n",
    "bars = plt.bar(rating_counts['mean_rating'], rating_counts['count'], color=[rating_colors[rating] \n",
    "    for rating in rating_counts['mean_rating']])\n",
    "plt.xlabel('Mean Rating')\n",
    "plt.ylabel('Count')\n",
    "plt.title('Count of Movies for Each Mean Rating')\n",
    "plt.xticks(rotation=45)\n",
    "\n",
    "# Create a custom legend for rating colors\n",
    "legend_labels = [plt.Line2D([0], [0], color=rating_colors[rating], label=f'{rating}', marker='o', markersize=8) \n",
    "    for rating in rating_colors.keys()]\n",
    "plt.legend(handles=legend_labels, title=\"Rating\")\n",
    "\n",
    "# Show the plot\n",
    "plt.tight_layout()\n",
    "plt.show()"
   ]
  },
  {
   "cell_type": "markdown",
   "id": "5da669cc",
   "metadata": {},
   "source": [
    "### Normal Distribution (Kurtosis Test)"
   ]
  },
  {
   "cell_type": "code",
   "execution_count": null,
   "id": "465c705a",
   "metadata": {},
   "outputs": [],
   "source": [
    "!pip install scipy"
   ]
  },
  {
   "cell_type": "code",
   "execution_count": null,
   "id": "2ef6dc71",
   "metadata": {},
   "outputs": [],
   "source": [
    "from scipy import stats\n",
    "\n",
    "columns_to_test = ['userId1', 'avg(rating1)']  \n",
    "\n",
    "column_names = []  # Initialize an empty list to store column names\n",
    "kurtosis_values = []  # Initialize an empty list to store kurtosis values\n",
    "\n",
    "for column in columns_to_test:\n",
    "    kurtosis_result = stats.kurtosis(grouped_data[column], nan_policy='omit')\n",
    "    column_names.append(column)\n",
    "    kurtosis_values.append(kurtosis_result)\n",
    "    \n",
    "    print(f\"Kurtosis Test for '{column}':\")\n",
    "    print(f\"Kurtosis statistic: {kurtosis_result}\")\n",
    "    \n",
    "    if kurtosis_result < 0.05:\n",
    "        print(f\"The data in column '{column}' does not follow a normal distribution.\")\n",
    "    else:\n",
    "        print(f\"The data in column '{column}' follows a normal distribution.\")\n",
    "    \n",
    "    print(\"-\" * 50)\n"
   ]
  },
  {
   "cell_type": "code",
   "execution_count": null,
   "id": "d7b8605d",
   "metadata": {},
   "outputs": [],
   "source": [
    "#\n",
    "\n",
    "columns_to_test = ['userId1', 'avg(rating1)']  \n",
    "\n",
    "# Create subplots with two side-by-side boxes\n",
    "fig, axes = plt.subplots(1, 2, figsize=(14, 6))\n",
    "\n",
    "for i, column in enumerate(columns_to_test):\n",
    "    kurtosis_result = stats.kurtosis(grouped_data[column], nan_policy='omit')\n",
    "    column_name = column\n",
    "\n",
    "    # Calculate mean and standard deviation for the normal distribution curve\n",
    "    mean = np.mean(grouped_data[column])\n",
    "    std_dev = np.std(grouped_data[column])\n",
    "\n",
    "    # Create a range of values for the x-axis\n",
    "    x = np.linspace(mean - 3 * std_dev, mean + 3 * std_dev, 100)\n",
    "\n",
    "    # Calculate the corresponding probability density function (PDF) values\n",
    "    pdf = stats.norm.pdf(x, mean, std_dev)\n",
    "\n",
    "    # Plot the histogram with the overlayed normal distribution curve\n",
    "    axes[i].hist(grouped_data[column], bins=20, density=True, alpha=0.6, color='blue', label='Histogram')\n",
    "    axes[i].plot(x, pdf, color='red', linestyle='--', label='Normal Distribution')\n",
    "    axes[i].set_title(f'Kurtosis Test for {column_name}')\n",
    "    axes[i].set_xlabel(column_name)\n",
    "    axes[i].set_ylabel('Frequency')\n",
    "    axes[i].legend()\n",
    "\n",
    "plt.tight_layout()\n",
    "plt.show()\n"
   ]
  },
  {
   "cell_type": "markdown",
   "id": "f5268ce5",
   "metadata": {},
   "source": [
    "### Applying Log Transformation to distribute the data better"
   ]
  },
  {
   "cell_type": "code",
   "execution_count": null,
   "id": "af7c85bb",
   "metadata": {},
   "outputs": [],
   "source": [
    "from pyspark.sql.functions import log\n",
    "import seaborn as sns\n",
    "import matplotlib.pyplot as plt\n",
    "\n",
    "# Define the column to transform\n",
    "column_to_transform = 'userId'\n",
    "\n",
    "# Apply the natural logarithm function to the 'userId' column in grouped_data\n",
    "grouped_data = grouped_data.withColumn('log_' + column_to_transform, log(grouped_data[column_to_transform] + 1))\n",
    "\n",
    "# Convert the grouped_data DataFrame to Pandas for visualization\n",
    "grouped_data_pd = grouped_data.toPandas()\n",
    "\n",
    "# Create a subplot\n",
    "fig, ax = plt.subplots(figsize=(8, 6))\n",
    "\n",
    "# Plot the histogram of the log-transformed variable with KDE curve\n",
    "sns.histplot(data=grouped_data_pd, x='log_' + column_to_transform, kde=True, ax=ax)\n",
    "ax.set_xlabel('Log(' + column_to_transform + ')')\n",
    "ax.set_ylabel('Value')\n",
    "ax.set_title('Histogram: Log(' + column_to_transform + ')')\n",
    "\n",
    "# Adjust spacing and layout\n",
    "plt.tight_layout()\n",
    "\n",
    "# Show the plot\n",
    "plt.show()\n"
   ]
  },
  {
   "cell_type": "code",
   "execution_count": null,
   "id": "b8c22cdc",
   "metadata": {},
   "outputs": [],
   "source": [
    "import numpy as np\n",
    "import seaborn as sns\n",
    "import matplotlib.pyplot as plt\n",
    "\n",
    "# Define the column to transform\n",
    "column_to_transform = 'userId1'  # Adjust the column name if needed\n",
    "\n",
    "# Apply the natural logarithm function to the 'userId' column in sampled_df\n",
    "sampled_df['log_' + column_to_transform] = np.log(sampled_df[column_to_transform] + 1)\n",
    "\n",
    "# Create a subplot\n",
    "fig, ax = plt.subplots(figsize=(8, 6))\n",
    "\n",
    "# Plot the histogram of the log-transformed variable with KDE curve\n",
    "sns.histplot(data=sampled_df, x='log_' + column_to_transform, kde=True, ax=ax)\n",
    "ax.set_xlabel('Log(' + column_to_transform + ')')\n",
    "ax.set_ylabel('Value')\n",
    "ax.set_title('Histogram: Log(' + column_to_transform + ')')\n",
    "\n",
    "# Adjust spacing and layout\n",
    "plt.tight_layout()\n",
    "\n",
    "# Show the plot\n",
    "plt.show()\n"
   ]
  },
  {
   "cell_type": "code",
   "execution_count": null,
   "id": "0b68490f",
   "metadata": {},
   "outputs": [],
   "source": [
    "# Check the few rows of teh Data after applied log transformation\n",
    "df.head()"
   ]
  },
  {
   "cell_type": "markdown",
   "id": "5fc3d1c9",
   "metadata": {},
   "source": [
    "# Perform the Shapiro-Wilk test for Normality of the data\n",
    "shapiro(grouped_data)"
   ]
  },
  {
   "cell_type": "markdown",
   "id": "55acd3c7",
   "metadata": {},
   "source": [
    "### References:\n",
    "https://grouplens.org/datasets/movielens/latest/"
   ]
  }
 ],
 "metadata": {
  "kernelspec": {
   "display_name": "Python 3 (ipykernel)",
   "language": "python",
   "name": "python3"
  },
  "language_info": {
   "codemirror_mode": {
    "name": "ipython",
    "version": 3
   },
   "file_extension": ".py",
   "mimetype": "text/x-python",
   "name": "python",
   "nbconvert_exporter": "python",
   "pygments_lexer": "ipython3",
   "version": "3.10.12"
  }
 },
 "nbformat": 4,
 "nbformat_minor": 5
}
